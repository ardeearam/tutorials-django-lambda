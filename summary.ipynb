{
 "cells": [
  {
   "cell_type": "code",
   "execution_count": null,
   "id": "41ba9d57-e59e-48d6-b04b-8ec886015fb5",
   "metadata": {},
   "outputs": [],
   "source": [
    "%%bash\n",
    "\n",
    "mkdir tutorial-django-lambda\n",
    "cd tutorial-django-lambda\n",
    "python3 -m venv venv\n",
    "source venv/bin/activate"
   ]
  },
  {
   "cell_type": "code",
   "execution_count": null,
   "id": "b195e87a-444f-441f-90d4-44e5950b08f0",
   "metadata": {},
   "outputs": [],
   "source": [
    "%%bash\n",
    "\n",
    "pip install django\n",
    "pip freeze > requirements.txt"
   ]
  },
  {
   "cell_type": "code",
   "execution_count": null,
   "id": "a50e43bb-d23a-4e1c-b223-e2431a1ee24b",
   "metadata": {},
   "outputs": [],
   "source": [
    "%%bash\n",
    "django-admin startproject app .\n",
    "python manage.py runserver  #Visit http://127.0.0.1:8000/"
   ]
  },
  {
   "cell_type": "code",
   "execution_count": null,
   "id": "1393b697-38bc-47fe-a4fc-764d6f549c5c",
   "metadata": {},
   "outputs": [],
   "source": [
    "%%bash\n",
    "pip install --upgrade setuptools\n",
    "pip install zappa\n",
    "pip freeze > requirements.txt"
   ]
  },
  {
   "cell_type": "code",
   "execution_count": null,
   "id": "f86dbd85-9b1a-41b8-aa15-df49d6a596b9",
   "metadata": {},
   "outputs": [],
   "source": [
    "%%bash\n",
    "zappa init\n",
    "# Proceed as per screenshots on the article\n",
    "# Ensure that AWS CLI, SSO, and profiles are properly configured\n",
    "# aws configure sso\n",
    "zappa deploy dev   "
   ]
  },
  {
   "cell_type": "code",
   "execution_count": null,
   "id": "7325b5b9-c0ad-4e1d-b082-247cd1e14d13",
   "metadata": {},
   "outputs": [],
   "source": [
    "%%bash\n",
    "\n",
    "#Code modifications:\n",
    "# app/settings.py \n",
    "#  - Add generated domain to ALLOWED_HOSTS\n",
    "#  - Add 'app' to INSTALLED_APPS\n",
    "# app/views.py - Create\n",
    "# Add path('', include('app.urls')),  to app/urls.py\n",
    "# Add app/templates/app/index.html for added oomph. Update app/views.py accordingly\n",
    "\n",
    "zappa update dev"
   ]
  },
  {
   "cell_type": "code",
   "execution_count": null,
   "id": "c8929507-7749-4471-a565-01680367a127",
   "metadata": {},
   "outputs": [],
   "source": [
    "%%bash\n",
    "\n",
    "#Optional: fancy domain name\n",
    "#Prerequisites - you have a public Route53 hosted zone\n",
    "# zappa_settings.json \n",
    "# - Add \"domain\" entry\n",
    "# - Add \"certificate_arn\" entry - See AWS Certificate Manager to get the CRN\n",
    "zappa certify\n",
    "\n",
    "# app/settings - Add domain to ALLOWED_HOSTS. \n",
    "zappa update dev    #deploy the change in ALLOWED_HOSTS\n",
    "```"
   ]
  }
 ],
 "metadata": {
  "kernelspec": {
   "display_name": "Python 3 (ipykernel)",
   "language": "python",
   "name": "python3"
  },
  "language_info": {
   "codemirror_mode": {
    "name": "ipython",
    "version": 3
   },
   "file_extension": ".py",
   "mimetype": "text/x-python",
   "name": "python",
   "nbconvert_exporter": "python",
   "pygments_lexer": "ipython3",
   "version": "3.12.8"
  }
 },
 "nbformat": 4,
 "nbformat_minor": 5
}
